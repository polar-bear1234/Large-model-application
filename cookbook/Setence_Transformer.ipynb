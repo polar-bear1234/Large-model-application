{
 "cells": [
  {
   "cell_type": "code",
   "execution_count": 2,
   "id": "e8757e77-7f75-4dba-a4cd-ab336031678b",
   "metadata": {},
   "outputs": [],
   "source": [
    "from sentence_transformers import SentenceTransformer, util\n",
    "from sentence_transformers import models, evaluation\n",
    "import os\n",
    "import pandas as pd\n",
    "import warnings \n",
    "warnings.filterwarnings(\"ignore\")"
   ]
  },
  {
   "cell_type": "code",
   "execution_count": 52,
   "id": "25a6b251-8347-4028-8c37-8d37f3204610",
   "metadata": {},
   "outputs": [],
   "source": [
    "pretrain_model_path = \"/Users/zyl/Desktop/LLM/pretrain_models/all-MiniLM-L6-v2\"\n",
    "# pretrain_model_path = \"/Users/zyl/Desktop/LLM/pretrain_models/quora-distilbert-multilingual\"\n",
    "model = SentenceTransformer(pretrain_model_path)"
   ]
  },
  {
   "cell_type": "code",
   "execution_count": 45,
   "id": "916a04ad-cd0e-4fdc-90d5-4008b8064ad1",
   "metadata": {},
   "outputs": [],
   "source": [
    "emb1 = model.encode(\"CPU使用率大于90%\", convert_to_tensor=True)\n",
    "emb2 = model.encode(\"CPU使用率小于90%\", convert_to_tensor=True)\n",
    "# print(emb1)\n",
    "# print(emb2)\n"
   ]
  },
  {
   "cell_type": "code",
   "execution_count": 46,
   "id": "c771a53c-2333-4275-a902-2062c08b491d",
   "metadata": {},
   "outputs": [
    {
     "name": "stdout",
     "output_type": "stream",
     "text": [
      "Cosine Sim is : tensor([[0.9777]])\n"
     ]
    }
   ],
   "source": [
    "cos_sim = util.cos_sim(emb1, emb2)\n",
    "print(\"Cosine Sim is :\", cos_sim)"
   ]
  },
  {
   "cell_type": "code",
   "execution_count": 47,
   "id": "46c1f8ba-561c-4a3a-be8b-e4071a0e087b",
   "metadata": {},
   "outputs": [],
   "source": [
    "emb1 = model.encode(\"CPU使用率大于90%\", convert_to_tensor=True)\n",
    "emb2 = model.encode(\"CPU使用率大于80%\", convert_to_tensor=True)\n",
    "# print(len(emb1))\n",
    "# print(emb2)"
   ]
  },
  {
   "cell_type": "code",
   "execution_count": 48,
   "id": "208d5f73-26ac-419e-b9d7-27a0a35931ba",
   "metadata": {},
   "outputs": [
    {
     "name": "stdout",
     "output_type": "stream",
     "text": [
      "Cosine Sim is : tensor([[0.9629]])\n"
     ]
    }
   ],
   "source": [
    "cos_sim = util.cos_sim(emb1, emb2)\n",
    "print(\"Cosine Sim is :\", cos_sim)"
   ]
  },
  {
   "cell_type": "code",
   "execution_count": 49,
   "id": "0078a569-8201-4a01-adc3-542cb86b10f0",
   "metadata": {},
   "outputs": [
    {
     "name": "stdout",
     "output_type": "stream",
     "text": [
      "Cosine Sim is : tensor([[0.9539]])\n"
     ]
    }
   ],
   "source": [
    "emb1 = model.encode(\"CPU使用率大于90%\", convert_to_tensor=True)\n",
    "emb2 = model.encode(\"CPU使用率大于70%\", convert_to_tensor=True)\n",
    "cos_sim = util.cos_sim(emb1, emb2)\n",
    "print(\"Cosine Sim is :\", cos_sim)"
   ]
  },
  {
   "cell_type": "code",
   "execution_count": 51,
   "id": "6289fe8f-822e-4ede-a612-1d0c050e7b9d",
   "metadata": {},
   "outputs": [
    {
     "name": "stdout",
     "output_type": "stream",
     "text": [
      "Cosine Sim is : tensor([[0.9386]])\n"
     ]
    }
   ],
   "source": [
    "emb1 = model.encode(\"CPU使用率大于90%\", convert_to_tensor=True)\n",
    "emb2 = model.encode(\"CPU使用率大于60%\", convert_to_tensor=True)\n",
    "cos_sim = util.cos_sim(emb1, emb2)\n",
    "print(\"Cosine Sim is :\", cos_sim)"
   ]
  },
  {
   "cell_type": "code",
   "execution_count": 43,
   "id": "9751b872-cebe-4531-b102-6f455d849976",
   "metadata": {},
   "outputs": [
    {
     "name": "stdout",
     "output_type": "stream",
     "text": [
      "Cosine Sim is : tensor([[0.9514]])\n"
     ]
    }
   ],
   "source": [
    "emb1 = model.encode(\"CPU使用率大于90%\", convert_to_tensor=True)\n",
    "emb2 = model.encode(\"CPU使用率大于40%\", convert_to_tensor=True)\n",
    "cos_sim = util.cos_sim(emb1, emb2)\n",
    "print(\"Cosine Sim is :\", cos_sim)"
   ]
  },
  {
   "cell_type": "code",
   "execution_count": 57,
   "id": "a038a23c-66dc-4e3b-9a9c-cb037cbae107",
   "metadata": {},
   "outputs": [
    {
     "data": {
      "text/html": [
       "<div>\n",
       "<style scoped>\n",
       "    .dataframe tbody tr th:only-of-type {\n",
       "        vertical-align: middle;\n",
       "    }\n",
       "\n",
       "    .dataframe tbody tr th {\n",
       "        vertical-align: top;\n",
       "    }\n",
       "\n",
       "    .dataframe thead th {\n",
       "        text-align: right;\n",
       "    }\n",
       "</style>\n",
       "<table border=\"1\" class=\"dataframe\">\n",
       "  <thead>\n",
       "    <tr style=\"text-align: right;\">\n",
       "      <th></th>\n",
       "      <th>sentence1</th>\n",
       "      <th>sentence2</th>\n",
       "      <th>cos_sim</th>\n",
       "    </tr>\n",
       "  </thead>\n",
       "  <tbody>\n",
       "    <tr>\n",
       "      <th>0</th>\n",
       "      <td>华为交换机CPU使用率超过70%</td>\n",
       "      <td>华为交换机CPU使用率超过70%</td>\n",
       "      <td>1.000000</td>\n",
       "    </tr>\n",
       "    <tr>\n",
       "      <th>1</th>\n",
       "      <td>CPU 使用率超过95%</td>\n",
       "      <td>CPU使用率低于10%</td>\n",
       "      <td>0.926380</td>\n",
       "    </tr>\n",
       "    <tr>\n",
       "      <th>2</th>\n",
       "      <td>磁盘分区 / 使用率超过 90%</td>\n",
       "      <td>分区:/opt使用率超过80%</td>\n",
       "      <td>0.925554</td>\n",
       "    </tr>\n",
       "    <tr>\n",
       "      <th>3</th>\n",
       "      <td>华为交换机CPU使用率超过70%</td>\n",
       "      <td>CPU使用率低于10%</td>\n",
       "      <td>0.887013</td>\n",
       "    </tr>\n",
       "    <tr>\n",
       "      <th>4</th>\n",
       "      <td>CPU使用率低于10%</td>\n",
       "      <td>华为交换机CPU使用率超过70%</td>\n",
       "      <td>0.887013</td>\n",
       "    </tr>\n",
       "    <tr>\n",
       "      <th>5</th>\n",
       "      <td>CPU 使用率超过95%</td>\n",
       "      <td>华为交换机CPU使用率超过70%</td>\n",
       "      <td>0.879013</td>\n",
       "    </tr>\n",
       "    <tr>\n",
       "      <th>6</th>\n",
       "      <td>CPU 使用率超过95%</td>\n",
       "      <td>华为交换机CPU使用率超过70%</td>\n",
       "      <td>0.879013</td>\n",
       "    </tr>\n",
       "    <tr>\n",
       "      <th>7</th>\n",
       "      <td>华三交换机内存未正常运行</td>\n",
       "      <td>华三交换机电源未正常运行华三交换机电源未正常运行</td>\n",
       "      <td>0.870063</td>\n",
       "    </tr>\n",
       "    <tr>\n",
       "      <th>8</th>\n",
       "      <td>磁盘使用率超过 80%</td>\n",
       "      <td>磁盘 / 使用率超过90%</td>\n",
       "      <td>0.854156</td>\n",
       "    </tr>\n",
       "    <tr>\n",
       "      <th>9</th>\n",
       "      <td>华为交换机CPU平均使用率超过 70%</td>\n",
       "      <td>华为交换机CPU使用率超过70%</td>\n",
       "      <td>0.849644</td>\n",
       "    </tr>\n",
       "    <tr>\n",
       "      <th>10</th>\n",
       "      <td>华为交换机CPU平均使用率超过 70%</td>\n",
       "      <td>华为交换机CPU使用率超过70%</td>\n",
       "      <td>0.849644</td>\n",
       "    </tr>\n",
       "    <tr>\n",
       "      <th>11</th>\n",
       "      <td>CPU 使用率超过95%</td>\n",
       "      <td>CPU使用率过高，超过75%</td>\n",
       "      <td>0.832310</td>\n",
       "    </tr>\n",
       "    <tr>\n",
       "      <th>12</th>\n",
       "      <td>华为交换机CPU平均使用率超过 70%</td>\n",
       "      <td>CPU使用率过高，超过75%</td>\n",
       "      <td>0.827499</td>\n",
       "    </tr>\n",
       "    <tr>\n",
       "      <th>13</th>\n",
       "      <td>CPU使用率过高，超过75%</td>\n",
       "      <td>CPU使用率低于10%</td>\n",
       "      <td>0.821206</td>\n",
       "    </tr>\n",
       "    <tr>\n",
       "      <th>14</th>\n",
       "      <td>华为交换机CPU使用率超过70%</td>\n",
       "      <td>CPU使用率过高，超过75%</td>\n",
       "      <td>0.803516</td>\n",
       "    </tr>\n",
       "    <tr>\n",
       "      <th>15</th>\n",
       "      <td>CPU使用率过高，超过75%</td>\n",
       "      <td>华为交换机CPU使用率超过70%</td>\n",
       "      <td>0.803516</td>\n",
       "    </tr>\n",
       "    <tr>\n",
       "      <th>16</th>\n",
       "      <td>华为交换机CPU平均使用率超过 70%</td>\n",
       "      <td>CPU使用率低于10%</td>\n",
       "      <td>0.801544</td>\n",
       "    </tr>\n",
       "    <tr>\n",
       "      <th>17</th>\n",
       "      <td>C:盘使用率超过85%</td>\n",
       "      <td>磁盘使用率超过 80%</td>\n",
       "      <td>0.784186</td>\n",
       "    </tr>\n",
       "    <tr>\n",
       "      <th>18</th>\n",
       "      <td>CPU 使用率超过95%</td>\n",
       "      <td>华为交换机CPU平均使用率超过 70%</td>\n",
       "      <td>0.783570</td>\n",
       "    </tr>\n",
       "    <tr>\n",
       "      <th>19</th>\n",
       "      <td>磁盘分区 / 使用率超过 90%</td>\n",
       "      <td>磁盘 / 使用率超过90%</td>\n",
       "      <td>0.762935</td>\n",
       "    </tr>\n",
       "  </tbody>\n",
       "</table>\n",
       "</div>"
      ],
      "text/plain": [
       "              sentence1                 sentence2   cos_sim\n",
       "0      华为交换机CPU使用率超过70%          华为交换机CPU使用率超过70%  1.000000\n",
       "1          CPU 使用率超过95%               CPU使用率低于10%  0.926380\n",
       "2      磁盘分区 / 使用率超过 90%           分区:/opt使用率超过80%  0.925554\n",
       "3      华为交换机CPU使用率超过70%               CPU使用率低于10%  0.887013\n",
       "4           CPU使用率低于10%          华为交换机CPU使用率超过70%  0.887013\n",
       "5          CPU 使用率超过95%          华为交换机CPU使用率超过70%  0.879013\n",
       "6          CPU 使用率超过95%          华为交换机CPU使用率超过70%  0.879013\n",
       "7          华三交换机内存未正常运行  华三交换机电源未正常运行华三交换机电源未正常运行  0.870063\n",
       "8           磁盘使用率超过 80%             磁盘 / 使用率超过90%  0.854156\n",
       "9   华为交换机CPU平均使用率超过 70%          华为交换机CPU使用率超过70%  0.849644\n",
       "10  华为交换机CPU平均使用率超过 70%          华为交换机CPU使用率超过70%  0.849644\n",
       "11         CPU 使用率超过95%            CPU使用率过高，超过75%  0.832310\n",
       "12  华为交换机CPU平均使用率超过 70%            CPU使用率过高，超过75%  0.827499\n",
       "13       CPU使用率过高，超过75%               CPU使用率低于10%  0.821206\n",
       "14     华为交换机CPU使用率超过70%            CPU使用率过高，超过75%  0.803516\n",
       "15       CPU使用率过高，超过75%          华为交换机CPU使用率超过70%  0.803516\n",
       "16  华为交换机CPU平均使用率超过 70%               CPU使用率低于10%  0.801544\n",
       "17          C:盘使用率超过85%               磁盘使用率超过 80%  0.784186\n",
       "18         CPU 使用率超过95%       华为交换机CPU平均使用率超过 70%  0.783570\n",
       "19     磁盘分区 / 使用率超过 90%             磁盘 / 使用率超过90%  0.762935"
      ]
     },
     "metadata": {},
     "output_type": "display_data"
    }
   ],
   "source": [
    "sentences = [\n",
    "    \"CPU 使用率超过95%\",\n",
    "    \"华为交换机CPU平均使用率超过 70%\",\n",
    "    \"华为交换机CPU使用率超过70%\",\n",
    "    \"CPU使用率过高，超过75%\",\n",
    "    \"CPU iowait 使用率超过 50%\",\n",
    "    \"CPU使用率低于10%\", \n",
    "    \n",
    "    \"磁盘分区 / 使用率超过 90%\",\n",
    "    \"分区:/opt使用率超过80%\",\n",
    "    \"磁盘 /data 使用率超过80%\",\n",
    "    \"C:盘使用率超过85%\",\n",
    "    \"磁盘使用率超过 80%\",\n",
    "    \"磁盘 / 使用率超过90%\",\n",
    "    \"磁盘 /home/agriculture/mcms 使用率超过80%\"\n",
    "\n",
    "    \"华三交换机内存使用率过高\",\n",
    "    \"华三交换机内存未正常运行\",\n",
    "    \"华三交换机电源未正常运行\"\n",
    "    \"华三交换机电源未正常运行\",\n",
    "    \"华为交换机CPU使用率超过70%\",\n",
    "    # \"redis连接少于10\", \n",
    "    # \"10.2.23.1/10.2.23.1/cpu/暂未匹配,指标检测随机丢失率告警\"\n",
    "]\n",
    "\n",
    "embeddings = model.encode(sentences)\n",
    "cos_sim = util.cos_sim(embeddings, embeddings)    # 每两个都计算一次\n",
    "all_sentence_combinations = []\n",
    "for i in range(len(cos_sim)-1):\n",
    "    for j in range(i+1, len(cos_sim)):\n",
    "        all_sentence_combinations.append([cos_sim[i][j], i, j])\n",
    "\n",
    "all_sentence_combinations = sorted(all_sentence_combinations, key=lambda x: x[0], reverse=True)\n",
    "\n",
    "df = pd.DataFrame()\n",
    "l1,l2,l3 = [],[],[]\n",
    "for score, i, j in all_sentence_combinations[:]:\n",
    "    l1.append(sentences[i])\n",
    "    l2.append(sentences[j])\n",
    "    l3.append(cos_sim[i][j].item())\n",
    "    # print(\"{} \\t {} \\t {:.4f}\".format(sentences[i], sentences[j], cos_sim[i][j]))\n",
    "df['sentence1'] = l1\n",
    "df['sentence2'] = l2\n",
    "df['cos_sim'] = l3\n",
    "display(df.head(20))"
   ]
  },
  {
   "cell_type": "code",
   "execution_count": null,
   "id": "0bf44029-446b-435b-82cc-ec814fdcdc8f",
   "metadata": {},
   "outputs": [],
   "source": [
    "top_k = min(5, len(corpus))\n",
    "for query in queries:\n",
    "    query_embedding = embedder.encode(query, convert_to_tensor=True)\n",
    "\n",
    "    # We use cosine-similarity and torch.topk to find the highest 5 scores\n",
    "    cos_scores = util.cos_sim(query_embedding, corpus_embeddings)[0]\n",
    "    top_results = torch.topk(cos_scores, k=top_k)\n",
    "\n",
    "    print(\"\\n\\n======================\\n\\n\")\n",
    "    print(\"Query:\", query)\n",
    "    print(\"\\nTop 5 most similar sentences in corpus:\")\n",
    "\n",
    "    for score, idx in zip(top_results[0], top_results[1]):\n",
    "        print(corpus[idx], \"(Score: {:.4f})\".format(score))"
   ]
  },
  {
   "cell_type": "code",
   "execution_count": 2,
   "id": "1c417009-6f2f-466c-a533-382ca3df5cd3",
   "metadata": {},
   "outputs": [
    {
     "name": "stdout",
     "output_type": "stream",
     "text": [
      "2023-02-15T16:09:03.000000+0800\n"
     ]
    }
   ],
   "source": [
    "from datetime import datetime, timezone, timedelta\n",
    "\n",
    "def reverse_num_to_time(t):\n",
    "    timestamp = t / 1000.0\n",
    "    dt_utc = datetime.utcfromtimestamp(timestamp).replace(tzinfo=timezone.utc)\n",
    "    dt_local = dt_utc.astimezone(timezone(timedelta(hours=8)))\n",
    "    formatted_time = dt_local.strftime('%Y-%m-%dT%H:%M:%S.%f%z')\n",
    "    return formatted_time\n",
    "\n",
    "t = 1676448543000\n",
    "print(reverse_num_to_time(t))"
   ]
  },
  {
   "cell_type": "code",
   "execution_count": null,
   "id": "1dc9d38d-55b7-4faa-9da3-5babf22731fa",
   "metadata": {},
   "outputs": [],
   "source": []
  }
 ],
 "metadata": {
  "kernelspec": {
   "display_name": "Python 3 (ipykernel)",
   "language": "python",
   "name": "python3"
  },
  "language_info": {
   "codemirror_mode": {
    "name": "ipython",
    "version": 3
   },
   "file_extension": ".py",
   "mimetype": "text/x-python",
   "name": "python",
   "nbconvert_exporter": "python",
   "pygments_lexer": "ipython3",
   "version": "3.9.7"
  }
 },
 "nbformat": 4,
 "nbformat_minor": 5
}
